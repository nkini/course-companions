{
 "cells": [
  {
   "cell_type": "markdown",
   "metadata": {},
   "source": [
    "Stating the problem:\n",
    "\n",
    "- Given a set of points: ${(x_1, y_1), (x_2, y_2), ... (x_n, y_n)}$\n",
    "- Plot them in a 2D chart\n",
    "- Find the line of best fit\n",
    "\n",
    "Our line of best fit:  \n",
    "$\\hat{y_i} = ax_i + b$\n",
    "\n",
    "We would like $\\hat{y_i}$ as close to $y_i, i = 1 .. n$ as possible.\n",
    "\n",
    "The error:  \n",
    "$\\sum_{i=1}^{N}(y_i - \\hat{y_i})^2$\n",
    "\n",
    "Substitute with our expression for the line:  \n",
    "$\\sum_{i=1}^{N}(y_i - (ax_i + b))^2$\n",
    "\n",
    "$y_i$ and $x_i$ are given, what we want to find is $a$ and $b$.\n",
    "\n",
    "Since we want to minimize w.r.t. two things at the same time, we need to use partial derivatives, and set it to zero.\n",
    "\n",
    "$\\frac{\\partial E}{\\partial a} = \\sum_{i=1}^{N} 2(y_i - (ax_i + b))(-x_i) = 0$  \n",
    "$\\frac{\\partial E}{\\partial b} = \\sum_{i=1}^{N} 2(y_i - (ax_i + b))(-1) = 0$\n",
    "\n",
    "$a\\sum_{i=1}^{N}x_i^2 + b\\sum_{i=1}^{N}x_i = \\sum_{i=1}^{N}y_ix_i$  \n",
    "$a\\sum_{i=1}^{N}x_i + b\\sum_{i=1}^{N}1 = \\sum_{i=1}^{N}y_i$  \n",
    "\n",
    "Equivalent to  \n",
    "$aC + bD = E$  \n",
    "$aD + bN = F$\n",
    "\n",
    "$a = \\frac{EN - FD}{CN - D^2}$  \n",
    "$b = \\frac{ED - FC}{D^2 - NC}$  \n",
    "\n",
    "After simplification (substituting original values, dividing Nr and Dr by N, using definition of sample mean...)  \n",
    "$a = \\frac{\\sum{y_i x_i} - \\bar{y} \\sum{x_i}}{\\sum{x^2}-\\bar{x}\\sum{x_i}}, \n",
    "b = \\frac{\\bar{y}\\sum{x_i^2} - \\bar{x}\\sum{x_i y_i}}{\\sum{x^2}-\\bar{x}\\sum{x_i}}$"
   ]
  },
  {
   "cell_type": "code",
   "execution_count": null,
   "metadata": {
    "collapsed": true
   },
   "outputs": [],
   "source": [
    "# In numpy, np.dot(x,y) is equivalent to \\sum_{i=1}{n} x_i y_i\n",
    "# Try to never use for loops in numpy"
   ]
  },
  {
   "cell_type": "code",
   "execution_count": 13,
   "metadata": {},
   "outputs": [
    {
     "data": {
      "text/plain": [
       "<matplotlib.collections.PathCollection at 0x10ff82550>"
      ]
     },
     "execution_count": 13,
     "metadata": {},
     "output_type": "execute_result"
    },
    {
     "data": {
      "image/png": "[encoded data removed]",
      "text/plain": [
       "<matplotlib.figure.Figure at 0x10e58fe80>"
      ]
     },
     "metadata": {},
     "output_type": "display_data"
    }
   ],
   "source": [
    "import numpy as np\n",
    "import matplotlib.pyplot as plt\n",
    "%matplotlib inline\n",
    "\n",
    "X = []\n",
    "Y = []\n",
    "\n",
    "for line in open('../machine_learning_examples/linear_regression_class/data_1d.csv'):\n",
    "    x, y = line.split(',')\n",
    "    X.append(float(x))\n",
    "    Y.append(float(y))\n",
    "    \n",
    "X, Y = np.array(X), np.array(Y)\n",
    "\n",
    "plt.scatter(X,Y)"
   ]
  },
  {
   "cell_type": "code",
   "execution_count": 14,
   "metadata": {},
   "outputs": [],
   "source": [
    "denominator = X.dot(X) - X.mean()*X.sum()\n",
    "a = (Y.dot(X) - Y.mean()*X.sum()) / denominator\n",
    "b = (Y.mean() * X.dot(X) - X.mean()*Y.dot(X)) / denominator"
   ]
  },
  {
   "cell_type": "code",
   "execution_count": 15,
   "metadata": {},
   "outputs": [],
   "source": [
    "Y_hat = a*X + b"
   ]
  },
  {
   "cell_type": "code",
   "execution_count": 17,
   "metadata": {},
   "outputs": [
    {
     "data": {
      "text/plain": [
       "[<matplotlib.lines.Line2D at 0x1100ec518>]"
      ]
     },
     "execution_count": 17,
     "metadata": {},
     "output_type": "execute_result"
    },
    {
     "data": {
      "image/png": "[encoded data removed]",
      "text/plain": [
       "<matplotlib.figure.Figure at 0x1100ec320>"
      ]
     },
     "metadata": {},
     "output_type": "display_data"
    }
   ],
   "source": [
    "plt.scatter(X,Y)\n",
    "plt.plot(X,Y_hat)"
   ]
  },
  {
   "cell_type": "markdown",
   "metadata": {},
   "source": [
    "How do we determine the effectiveness of our model? A numerical model for how good our model is.\n",
    "\n",
    "What we generally use for regression, not just linear regression:\n",
    "$R^2$ or $r^2$ : R squared.\n",
    "\n",
    "$R^2 = 1 - \\frac{SS_{res}}{SS_{tot}}$  \n",
    "\n",
    "$SS_{res} = \\sum{(y_i - \\hat{y}_i)^2}$  \n",
    "$SS_{tot} = \\sum{(y_i - \\bar{y})^2}$  \n",
    "\n",
    "Note that $R^2$ of 1 is the best case fit, and the worst case fit is $R^2 = 0$. When does $R^2 = 0$ happen? When $SS_{tot} = SS_{res}$. Which means we basically predicated just the average of $y$.\n",
    "\n",
    "You can even do worse than worse! If you get a negative $R^2$ ($SS_{res} < SS_{tot}$), you are doing worse than predicting the mean."
   ]
  },
  {
   "cell_type": "code",
   "execution_count": 18,
   "metadata": {
    "collapsed": true
   },
   "outputs": [],
   "source": [
    "SSres = (Y - Y_hat).dot(Y - Y_hat)\n",
    "SStot = (Y - Y.mean()).dot(Y - Y.mean())\n",
    "# Cool numpy property. Subtracts scalar from each element of vector"
   ]
  },
  {
   "cell_type": "code",
   "execution_count": 19,
   "metadata": {
    "collapsed": true
   },
   "outputs": [],
   "source": [
    "R2 = 1 - SSres / SStot"
   ]
  },
  {
   "cell_type": "code",
   "execution_count": 20,
   "metadata": {},
   "outputs": [
    {
     "data": {
      "text/plain": [
       "0.99118382029778052"
      ]
     },
     "execution_count": 20,
     "metadata": {},
     "output_type": "execute_result"
    }
   ],
   "source": [
    "R2"
   ]
  }
 ],
 "metadata": {
  "kernelspec": {
   "display_name": "Python 3",
   "language": "python",
   "name": "python3"
  },
  "language_info": {
   "codemirror_mode": {
    "name": "ipython",
    "version": 3
   },
   "file_extension": ".py",
   "mimetype": "text/x-python",
   "name": "python",
   "nbconvert_exporter": "python",
   "pygments_lexer": "ipython3",
   "version": "3.6.1"
  }
 },
 "nbformat": 4,
 "nbformat_minor": 2
}
