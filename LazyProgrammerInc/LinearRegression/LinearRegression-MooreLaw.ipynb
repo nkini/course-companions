{
 "cells": [
  {
   "cell_type": "code",
   "execution_count": 2,
   "metadata": {},
   "outputs": [
    {
     "name": "stdout",
     "output_type": "stream",
     "text": [
      "\n"
     ]
    }
   ],
   "source": [
    "# What the file looks like:\n",
    "'''\n",
    "Intel 4004\t2,300\t1971\tIntel\t10,000 nm\t12 mm²\n",
    "Intel 8008\t3,500\t1972\tIntel\t10,000 nm\t14 mm²\n",
    "Intel 8080\t4,500\t1974\tIntel\t6,000 nm\t20 mm²\n",
    "Motorola 6800\t4,100\t1974\tMotorola\t6,000 nm\t16 mm²\n",
    "RCA 1802\t5,000\t1974\tRCA\t5,000 nm\t27 mm²\n",
    "TMS 1000\t8,000\t1974[7]\tTexas Instruments\t8,000 nm\t\n",
    "MOS Technology 6502\t3,510[8]\t1975\tMOS Technology\t8,000 nm\t21 mm²\n",
    "Intel 8085\t6,500\t1976\tIntel\t3,000 nm\t20 mm²\n",
    "Zilog Z80\t8,500\t1976\tZilog\t4,000 nm\t18 mm²\n",
    "Intel 8086\t29,000\t1978\tIntel\t3,000 nm\t33 mm²\n",
    "Motorola 6809\t9,000\t1978\tMotorola\t5,000 nm\t21 mm²\n",
    "Intel 8088\t29,000\t1979\tIntel\t3,000 nm\t33 mm²\n",
    "Motorola 68000\t68,000\t1979\tMotorola\t3,500 nm\t44 mm²\n",
    "WDC 65C02\t11,500[9]\t1981\tWDC\t3,000 nm\t6 mm²\n",
    "Intel 80186\t55,000\t1982\tIntel\t3,000 nm\t60 mm²\n",
    "Intel 80286\t134,000\t1982\tIntel\t1,500 nm\t49 mm²\n",
    "WDC 65C816\t22,000[10]\t1983\tWDC\t\t9 mm²\n",
    "Motorola 68020\t190,000[11]\t1984\tMotorola\t2,000 nm\t85 mm²\n",
    "ARM 1\t25,000[11]\t1985\tAcorn\t3,000 nm\t50 mm²\n",
    "Intel 80386\t275,000\t1985\tIntel\t1,500 nm\t104 mm²\n",
    "Novix NC4016\t16,000[12]\t1985[13]\tHarris Corporation\t3,000 nm[14]\t\n",
    "ARM 2\t30,000[11]\t1986\tAcorn\t2,000 nm\t30 mm²\n",
    "TI Explorer's 32-bit Lisp machine chip\t553,000[15]\t1987\tTexas Instruments\t\t\n",
    "DEC WRL MultiTitan\t180,000[16]\t1988\tDEC WRL\t1,500 nm\t61 mm²\n",
    "Intel i960\t250,000[17]\t1988\tIntel\t600 nm\t\n",
    "ARM 3\t300,000\t1989\tAcorn\t\t\n",
    "Intel 80486\t1,180,235\t1989\tIntel\t1000 nm\t173 mm²\n",
    "ARM 6\t35,000\t1991\tARM\t\t\n",
    "R4000\t1,350,000\t1991\tMIPS\t1,000 nm\t213 mm²\n",
    "Pentium\t3,100,000\t1993\tIntel\t800 nm\t294 mm²\n",
    "ARM700\t578,977[18]\t1994\tARM\t\t68.51 mm²\n",
    "Pentium Pro\t5,500,000[19]\t1995\tIntel\t500 nm\t307 mm²\n",
    "SA-110\t2,500,000[11]\t1995\tAcorn/DEC/Apple\t350 nm\t50 mm²\n",
    "AMD K5\t4,300,000\t1996\tAMD\t500 nm\t251 mm²\n",
    "AMD K6\t8,800,000\t1997\tAMD\t350 nm\t162 mm²\n",
    "Pentium II Klamath\t7,500,000\t1997\tIntel\t350 nm\t195 mm²\n",
    "Pentium II Deschutes\t7,500,000\t1998\tIntel\t250 nm\t113 mm²\n",
    "AMD K6-III\t21,300,000\t1999\tAMD\t250 nm\t118 mm²\n",
    "AMD K7\t22,000,000\t1999\tAMD\t250 nm\t184 mm²\n",
    "ARM 9TDMI\t111,000[11]\t1999\tAcorn\t350 nm\t4.8 mm²\n",
    "Pentium II Mobile Dixon\t27,400,000\t1999\tIntel\t180 nm\t180 mm²\n",
    "Pentium III Katmai\t9,500,000\t1999\tIntel\t250 nm\t128 mm²\n",
    "Pentium 4 Willamette\t42,000,000\t2000\tIntel\t180 nm\t217 mm²\n",
    "Pentium III Coppermine\t21,000,000\t2000\tIntel\t180 nm\t80 mm²\n",
    "Pentium III Tualatin\t45,000,000\t2001\tIntel\t130 nm\t81 mm²\n",
    "Itanium 2 McKinley\t220,000,000\t2002\tIntel\t180 nm\t421 mm²\n",
    "Pentium 4 Northwood\t55,000,000\t2002\tIntel\t130 nm\t145 mm²\n",
    "AMD K8\t105,900,000\t2003\tAMD\t130 nm\t193 mm²\n",
    "Barton\t54,300,000\t2003\tAMD\t130 nm\t101 mm²\n",
    "Itanium 2 Madison 6M\t410,000,000\t2003\tIntel\t130 nm\t374 mm²\n",
    "Itanium 2 with 9 MB cache\t592,000,000\t2004\tIntel\t130 nm\t432 mm²\n",
    "Pentium 4 Prescott\t112,000,000\t2004\tIntel\t90 nm\t110 mm²\n",
    "Pentium 4 Prescott-2M\t169,000,000\t2005\tIntel\t90 nm\t143 mm²\n",
    "Pentium D Smithfield\t228,000,000\t2005\tIntel\t90 nm\t206 mm²\n",
    "Cell\t241,000,000\t2006\tSony/IBM/Toshiba\t90 nm\t221 mm²\n",
    "Core 2 Duo Conroe\t291,000,000\t2006\tIntel\t65 nm\t143 mm²\n",
    "Dual-core Itanium 2\t1,700,000,000[26]\t2006\tIntel\t90 nm\t596 mm²\n",
    "Pentium 4 Cedar Mill\t184,000,000\t2006\tIntel\t65 nm\t90 mm²\n",
    "Pentium D Presler\t362,000,000\t2006\tIntel\t65 nm\t162 mm²\n",
    "AMD K10 quad-core 2M L3\t463,000,000[20]\t2007\tAMD\t65 nm\t283 mm²\n",
    "ARM Cortex-A9\t26,000,000[21]\t2007\tARM\t45 nm\t31 mm²\n",
    "Core 2 Duo Allendale\t169,000,000\t2007\tIntel\t65 nm\t111 mm²\n",
    "Core 2 Duo Wolfdale\t411,000,000\t2007\tIntel\t45 nm\t107 mm²\n",
    "POWER6\t789,000,000\t2007\tIBM\t65 nm\t341 mm²\n",
    "AMD K10 quad-core 6M L3\t758,000,000[20]\t2008\tAMD\t45 nm\t258 mm²\n",
    "Atom\t47,000,000\t2008\tIntel\t45 nm\t24 mm²\n",
    "Core 2 Duo Wolfdale 3M\t230,000,000\t2008\tIntel\t45 nm\t83 mm²\n",
    "Core i7 (Quad)\t731,000,000\t2008\tIntel\t45 nm\t263 mm²\n",
    "Six-core Xeon 7400\t1,900,000,000\t2008\tIntel\t45 nm\t503 mm²\n",
    "Six-core Opteron 2400\t904,000,000\t2009\tAMD\t45 nm\t346 mm²\n",
    "16-core SPARC T3\t1,000,000,000[22]\t2010\tSun/Oracle\t40 nm\t377 mm²\n",
    "8-core POWER7 32M L3\t1,200,000,000\t2010\tIBM\t45 nm\t567 mm²\n",
    "8-core Xeon Nehalem-EX\t2,300,000,000[30]\t2010\tIntel\t45 nm\t684 mm²\n",
    "Quad-core Itanium Tukwila\t2,000,000,000[28]\t2010\tIntel\t65 nm\t699 mm²\n",
    "Quad-core z196[24]\t1,400,000,000\t2010\tIBM\t45 nm\t512 mm²\n",
    "Six-core Core i7 (Gulftown)\t1,170,000,000\t2010\tIntel\t32 nm\t240 mm²\n",
    "10-core Xeon Westmere-EX\t2,600,000,000\t2011\tIntel\t32 nm\t512 mm²\n",
    "Quad-core + GPU Core i7\t1,160,000,000\t2011\tIntel\t32 nm\t216 mm²\n",
    "Six-core Core i7/8-core Xeon E5 (Sandy Bridge-E/EP)\t2,270,000,000[29]\t2011\tIntel\t32 nm\t434 mm²\n",
    "61-core Xeon Phi\t5,000,000,000[34]\t2012\tIntel\t22 nm\t350 mm²\n",
    "8-core AMD Bulldozer\t1,200,000,000[23]\t2012\tAMD\t32 nm\t315 mm²\n",
    "8-core Itanium Poulson\t3,100,000,000\t2012\tIntel\t32 nm\t544 mm²\n",
    "8-core POWER7+ 80 MB L3 cache\t2,100,000,000\t2012\tIBM\t32 nm\t567 mm²\n",
    "Quad-core + GPU AMD Trinity\t1,303,000,000\t2012\tAMD\t32 nm\t246 mm²\n",
    "Quad-core + GPU Core i7 Ivy Bridge\t1,400,000,000\t2012\tIntel\t22 nm\t160 mm²\n",
    "Six-core zEC12\t2,750,000,000\t2012\tIBM\t32 nm\t597 mm²\n",
    "12-core POWER8\t4,200,000,000\t2013\tIBM\t22 nm\t650 mm²\n",
    "Apple A7 (dual-core ARM64 \"mobile SoC\")\t1,000,000,000\t2013\tApple\t28 nm\t102 mm²\n",
    "Six-core Core i7 Ivy Bridge E\t1,860,000,000\t2013\tIntel\t22 nm\t256 mm²\n",
    "Xbox One main SoC\t5,000,000,000\t2013\tMicrosoft/AMD\t28 nm\t363 mm²\n",
    "15-core Xeon Ivy Bridge-EX\t4,310,000,000[33]\t2014\tIntel\t22 nm\t541 mm²\n",
    "18-core Xeon Haswell-E5\t5,560,000,000[35]\t2014\tIntel\t22 nm\t661 mm²\n",
    "8-core Core i7 Haswell-E\t2,600,000,000[31]\t2014\tIntel\t22 nm\t355 mm²\n",
    "Apple A8 (dual-core ARM64 \"mobile SoC\")\t2,000,000,000\t2014\tApple\t20 nm\t89 mm²\n",
    "Apple A8X (tri-core ARM64 \"mobile SoC\")\t3,000,000,000[32]\t2014\tApple\t20 nm\t128 mm²\n",
    "Quad-core + GPU Core i7 Haswell\t1,400,000,000[25]\t2014\tIntel\t22 nm\t177 mm²\n",
    "Duo-core + GPU Iris Core i7 Broadwell-U\t1,900,000,000[27]\t2015\tIntel\t14 nm\t133 mm²\n",
    "IBM z13\t3,990,000,000\t2015\tIBM\t22 nm\t678 mm²\n",
    "IBM z13 Storage Controller\t7,100,000,000\t2015\tIBM\t22 nm\t678 mm²\n",
    "Quad-core + GPU GT2 Core i7 Skylake K\tcca 1,750,000,000\t2015\tIntel\t14 nm\t122 mm²\n",
    "SPARC M7\t10,000,000,000[37]\t2015\tOracle\t20 nm\t\n",
    "22-core Xeon Broadwell-E5\t~7,200,000,000[36]\t2016\tIntel\t14 nm\t456 mm²\n",
    "'''\n",
    "# We only want the year and the number of units sold\n",
    "print()"
   ]
  },
  {
   "cell_type": "code",
   "execution_count": 6,
   "metadata": {},
   "outputs": [
    {
     "data": {
      "text/plain": [
       "<matplotlib.collections.PathCollection at 0x106848c18>"
      ]
     },
     "execution_count": 6,
     "metadata": {},
     "output_type": "execute_result"
    },
    {
     "data": {
      "image/png": "[encoded data removed]",
      "text/plain": [
       "<matplotlib.figure.Figure at 0x10657cef0>"
      ]
     },
     "metadata": {},
     "output_type": "display_data"
    }
   ],
   "source": [
    "import re\n",
    "import matplotlib.pyplot as plt\n",
    "import numpy as np\n",
    "%matplotlib inline\n",
    "\n",
    "X = []\n",
    "Y = []\n",
    "\n",
    "# some numbers have commas and square bracket wikipedia references\n",
    "# e.g. 1,400,000,000[25]\n",
    "non_decimal = re.compile(r'[^\\d]+')\n",
    "\n",
    "for line in open('../machine_learning_examples/linear_regression_class/moore.csv'):\n",
    "    r = line.split('\\t')\n",
    "    # r[1] has y\n",
    "    # r[2] has x    \n",
    "    \n",
    "    #note that if there is no '[', you still get the word as in arr[0]\n",
    "    y = int(non_decimal.sub('', r[1].split('[')[0]))  \n",
    "    x = int(non_decimal.sub('', r[2].split('[')[0]))\n",
    "    \n",
    "    X.append(x)\n",
    "    Y.append(y)\n",
    "    \n",
    "X, Y = np.array(X), np.array(Y)\n",
    "    \n",
    "plt.scatter(X, Y)"
   ]
  },
  {
   "cell_type": "code",
   "execution_count": 7,
   "metadata": {},
   "outputs": [
    {
     "data": {
      "text/plain": [
       "<matplotlib.collections.PathCollection at 0x10693d5c0>"
      ]
     },
     "execution_count": 7,
     "metadata": {},
     "output_type": "execute_result"
    },
    {
     "data": {
      "image/png": "[encoded data removed]",
      "text/plain": [
       "<matplotlib.figure.Figure at 0x1067c4c18>"
      ]
     },
     "metadata": {},
     "output_type": "display_data"
    }
   ],
   "source": [
    "Y = np.log(Y)\n",
    "plt.scatter(X, Y)"
   ]
  },
  {
   "cell_type": "code",
   "execution_count": 8,
   "metadata": {
    "collapsed": true
   },
   "outputs": [],
   "source": [
    "denominator = X.dot(X) - X.mean()*X.sum()\n",
    "a = (X.dot(Y) - Y.mean()*X.sum()) / denominator\n",
    "b = (Y.mean()*X.dot(X) -  X.mean()*Y.dot(X)) / denominator"
   ]
  },
  {
   "cell_type": "code",
   "execution_count": 9,
   "metadata": {},
   "outputs": [
    {
     "data": {
      "text/plain": [
       "[<matplotlib.lines.Line2D at 0x1069086a0>]"
      ]
     },
     "execution_count": 9,
     "metadata": {},
     "output_type": "execute_result"
    },
    {
     "data": {
      "image/png": "[encoded data removed]",
      "text/plain": [
       "<matplotlib.figure.Figure at 0x106908358>"
      ]
     },
     "metadata": {},
     "output_type": "display_data"
    }
   ],
   "source": [
    "Y_hat = a * X + b\n",
    "plt.scatter(X, Y)\n",
    "plt.plot(X, Y_hat)"
   ]
  },
  {
   "cell_type": "code",
   "execution_count": 10,
   "metadata": {},
   "outputs": [
    {
     "data": {
      "text/plain": [
       "0.95294428522857599"
      ]
     },
     "execution_count": 10,
     "metadata": {},
     "output_type": "execute_result"
    }
   ],
   "source": [
    "d1 = Y - Y_hat\n",
    "d2 = Y - Y.mean()\n",
    "\n",
    "SSres = d1.dot(d1)\n",
    "SStot = d2.dot(d2)\n",
    "\n",
    "R2 = 1 - SSres / SStot\n",
    "R2"
   ]
  },
  {
   "cell_type": "code",
   "execution_count": 12,
   "metadata": {},
   "outputs": [
    {
     "name": "stdout",
     "output_type": "stream",
     "text": [
      "Time to double = 1.9745331723797188\n"
     ]
    }
   ],
   "source": [
    "# Question: how long does it take for the transistor counts to double?\n",
    "\n",
    "# So, the transistor counts are the Y axis, but this is the log of the value\n",
    "# essentially, what we did is:\n",
    "# log(trans_count) = a*year + b\n",
    "# So,     trans_count =     exp(a*year + b) \n",
    "#                     =     exp(a*year) * exp(b)\n",
    "# So, 2 * trans_count = 2 * exp(a*year) * exp(b)\n",
    "#                     = exp(ln 2) * exp(a*year) * exp(b)\n",
    "#     exp(a*year2) * exp(b) = exp(a*year1 + ln2) * exp(b)\n",
    "#     exp(a*year2) = exp(a*year1 + ln2)\n",
    "#     a*year2 = a*year1 + ln2\n",
    "#       year2 = year1 + ln2 / a\n",
    "\n",
    "print(\"Time to double = {}\".format(np.log(2)/a))"
   ]
  }
 ],
 "metadata": {
  "kernelspec": {
   "display_name": "Python 3",
   "language": "python",
   "name": "python3"
  },
  "language_info": {
   "codemirror_mode": {
    "name": "ipython",
    "version": 3
   },
   "file_extension": ".py",
   "mimetype": "text/x-python",
   "name": "python",
   "nbconvert_exporter": "python",
   "pygments_lexer": "ipython3",
   "version": "3.6.1"
  }
 },
 "nbformat": 4,
 "nbformat_minor": 2
}
