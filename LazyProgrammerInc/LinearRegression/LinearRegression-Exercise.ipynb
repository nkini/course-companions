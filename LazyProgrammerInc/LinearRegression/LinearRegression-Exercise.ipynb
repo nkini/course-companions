{
 "cells": [
  {
   "cell_type": "markdown",
   "metadata": {},
   "source": [
    "1. Pick a dataset you want to work on\n",
    "2. Download the data, and write code to split it into train and test sets\n",
    "3. See if you can use some of the variables to predict another variable\n",
    "4. Measure the accuracy of your model on the train and test data\n",
    "5. Plot each independent variable against the dependent variable, and do a simple 1-D linear regression. Which one gives you the best $R^2$?\n",
    "6. Determine how many variables you actually need to get the best $R^2$ on the test set (Add variables greedily via the largest improvement on the training set)."
   ]
  },
  {
   "cell_type": "markdown",
   "metadata": {},
   "source": [
    "Free data:\n",
    "- Specifically for multiple linear regression at [Cengage, understandable statistics](http://college.cengage.com/mathematics/brase/understandable_statistics/7e/students/datasets/mlr/frames/frame.html)\n",
    "  - Systolic Blood Pressure\n",
    "  - Crime rate\n",
    "  - Sports\n",
    "  - Movies\n",
    "\n",
    "\n",
    "\n",
    "- Government data:\n",
    "  - [data.gov](https://www.data.gov)\n",
    "  - [data.gov.in](https://data.gov.in)\n",
    "  - [open.canada.ca](https://open.canada.ca)"
   ]
  },
  {
   "cell_type": "code",
   "execution_count": null,
   "metadata": {
    "collapsed": true
   },
   "outputs": [],
   "source": []
  }
 ],
 "metadata": {
  "kernelspec": {
   "display_name": "Python 3",
   "language": "python",
   "name": "python3"
  },
  "language_info": {
   "codemirror_mode": {
    "name": "ipython",
    "version": 3
   },
   "file_extension": ".py",
   "mimetype": "text/x-python",
   "name": "python",
   "nbconvert_exporter": "python",
   "pygments_lexer": "ipython3",
   "version": "3.6.1"
  }
 },
 "nbformat": 4,
 "nbformat_minor": 2
}
