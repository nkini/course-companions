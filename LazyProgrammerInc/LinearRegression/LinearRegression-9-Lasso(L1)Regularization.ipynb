{
 "cells": [
  {
   "cell_type": "markdown",
   "metadata": {},
   "source": [
    "- Previously, we saw that even adding a column of completely random noise can improve R2\n",
    "- In general, we want D << N\n",
    "\n",
    "```\n",
    "N # # #  \n",
    "N # # #  \n",
    "N # # #  \n",
    "N # # #  \n",
    "N # I #           N # # # # # # # # # # # #  \n",
    "N # D #           N # # # # # # # # # # # #  \n",
    "N # E #           N # N O T # I D E A L # #   \n",
    "N # A #           N # # # # # # # # # # # #  \n",
    "N # L #           D D D D D D D D D D D D D\n",
    "N # # #  \n",
    "N # # #  \n",
    "N # # #  \n",
    "D D D D \n",
    "```\n",
    "\n",
    "- Goal: Select a small number of important features that predict the trend\n",
    "- Don't let the noise influence the output\n",
    "- This is called sparsity - few weights are non-zero, most will be 0\n",
    "- Achieved by LASSO / L1 regularization\n",
    "\n",
    "$ J_{ridge} = \\sum_{n=1}^N (y_n - \\hat{y}_n)^2 + \\lambda \\vert \\vert w \\vert \\vert_2 ^ 2$  \n",
    "\n",
    "$ J_{lasso} = \\sum_{n=1}^N (y_n - \\hat{y}_n)^2 + \\lambda \\vert \\vert w \\vert \\vert_1 $\n",
    "\n",
    "- It is also a MAP estimation of w, with the prior being a Laplace distribution $$p(w) = \\frac{\\lambda}{2} exp(- \\lambda \\vert w \\vert)$$\n",
    "\n",
    "Taking the derivative of $J_{lasso}$:\n",
    "\n",
    "$ J = (Y - Xw)^T (Y - Xw) + \\lambda \\vert w \\vert $  \n",
    "$ J = Y^T - 2 Y^T X w + w^T X^T X w + \\lambda \\vert w$  \n",
    "$ \\partial J / \\partial w = - 2 X^T Y + 2 X^T X w + \\lambda sign(w) = 0 $  \n",
    "$sign(x) =$ 1 if x > 0, -1, if x < 0, 0 if x = 0. Since its inverse is not a function, we cannot solve for w analytically."
   ]
  },
  {
   "cell_type": "code",
   "execution_count": 6,
   "metadata": {},
   "outputs": [
    {
     "data": {
      "text/plain": [
       "[<matplotlib.lines.Line2D at 0x114691710>]"
      ]
     },
     "execution_count": 6,
     "metadata": {},
     "output_type": "execute_result"
    },
    {
     "data": {
      "image/png": "[encoded data removed]",
      "text/plain": [
       "<matplotlib.figure.Figure at 0x114410b38>"
      ]
     },
     "metadata": {},
     "output_type": "display_data"
    }
   ],
   "source": [
    "import numpy as np\n",
    "import matplotlib.pyplot as plt\n",
    "%matplotlib inline\n",
    "\n",
    "# Generate a dataset with more features than relevant\n",
    "N = 50\n",
    "D = 50\n",
    "\n",
    "X = (np.random.random((N, D)) - 0.5) * 10\n",
    "\n",
    "true_w = np.array([1, 0.5, -0.5] + [0] * (D-3))\n",
    "\n",
    "Y = X.dot(true_w) + np.random.randn(N) * 0.5\n",
    "\n",
    "costs = []\n",
    "\n",
    "learning_rate = 0.001\n",
    "l1 = 10\n",
    "T = 500\n",
    "w = np.random.randn(D) / np.sqrt(D)\n",
    "for t in range(T):\n",
    "    Yhat = X.dot(w)\n",
    "    delta = Yhat - Y\n",
    "    w = w - learning_rate * (X.T.dot(delta) + l1 * np.sign(w))\n",
    "    mse = delta.dot(delta) / N\n",
    "    costs.append(mse)\n",
    "    \n",
    "plt.plot(costs)"
   ]
  },
  {
   "cell_type": "code",
   "execution_count": 7,
   "metadata": {},
   "outputs": [
    {
     "name": "stdout",
     "output_type": "stream",
     "text": [
      "final w [  9.63415962e-01   4.08105745e-01  -4.49199815e-01   1.19717622e-02\n",
      "   1.21426400e-03  -2.88155031e-02   5.91097829e-03  -5.87705929e-03\n",
      "  -9.42269341e-03  -1.11852209e-02   1.11469476e-02   1.08160730e-02\n",
      "  -1.02776326e-03  -1.76248776e-02  -1.12333934e-02  -7.60614941e-03\n",
      "   2.88922903e-03  -3.69706009e-04   1.39878800e-02  -2.37455552e-03\n",
      "  -3.13577396e-02  -2.29176863e-02   6.06346842e-03   1.00648049e-02\n",
      "  -1.05369973e-02  -3.22228469e-02   2.82013585e-02   8.78506364e-03\n",
      "  -1.59106772e-02   1.90069699e-02   2.57287962e-02  -6.38434687e-03\n",
      "   9.46185805e-03   2.10108333e-03   5.01584794e-03  -4.73903301e-03\n",
      "   9.83951861e-03   3.10240131e-03  -7.06266796e-03  -2.38323224e-02\n",
      "   5.96755473e-03  -1.19195332e-02  -3.70198483e-05  -2.45092012e-02\n",
      "  -1.21487343e-02  -8.50538339e-03  -9.90463388e-04   1.30795020e-02\n",
      "  -1.71032637e-03  -8.44927206e-03]\n"
     ]
    },
    {
     "data": {
      "text/plain": [
       "<matplotlib.legend.Legend at 0x110c59ef0>"
      ]
     },
     "execution_count": 7,
     "metadata": {},
     "output_type": "execute_result"
    },
    {
     "data": {
      "image/png": "[encoded data removed]",
      "text/plain": [
       "<matplotlib.figure.Figure at 0x1142bb278>"
      ]
     },
     "metadata": {},
     "output_type": "display_data"
    }
   ],
   "source": [
    "print(\"final w\", w)\n",
    "plt.plot(true_w, label='true w')\n",
    "plt.plot(w, label='w_map')\n",
    "plt.legend()"
   ]
  }
 ],
 "metadata": {
  "kernelspec": {
   "display_name": "Python 3",
   "language": "python",
   "name": "python3"
  },
  "language_info": {
   "codemirror_mode": {
    "name": "ipython",
    "version": 3
   },
   "file_extension": ".py",
   "mimetype": "text/x-python",
   "name": "python",
   "nbconvert_exporter": "python",
   "pygments_lexer": "ipython3",
   "version": "3.6.1"
  }
 },
 "nbformat": 4,
 "nbformat_minor": 2
}
