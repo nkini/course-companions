{
 "cells": [
  {
   "cell_type": "markdown",
   "metadata": {},
   "source": [
    "- Recall that for linear regression:\n",
    "    - $w_i$ is the amount $y$ will increase if $x_i$ increases by 1 while all other $x$s remain constant.\n",
    "\n",
    "- Focus on the binary scenario:\n",
    "  - Output prediction is either 1 or 0\n",
    "  - So a weight's affect is binary: it either brings the prediction closer to 1 or closer to 0\n",
    "  - Intuitively, a bigger weight $\\Rightarrow$ bigger effect\n",
    "  - **If $w_i$ is big and positive, a small increase in $x_i$ (assuming +ve $x_i$), will push the output closer to 1.**\n",
    "  - Similarly, **If $w_i$ is big and negative, a small increase in $x_i$ (assuming +ve $x_i$), will push the output closer to 0.**\n",
    "  - Larger magnitude $\\Rightarrow$ larger impact on output"
   ]
  },
  {
   "cell_type": "markdown",
   "metadata": {},
   "source": [
    "Recall that the interpretation of the output of logistic regression is:\n",
    "\n",
    "$\\sigma(w^T x ) = p(y = 1 \\vert x) = \\frac{1}{1 + exp(-w^T x}$  \n",
    "$1 - \\sigma(w^T x ) = p(y = 0 \\vert x) = 1 - \\frac{1}{1 + exp(-w^T x)} = \\frac{exp(-w^T x)}{1 + exp(-w^T x)}$\n",
    "\n",
    "The next step is calculating the odds:  \n",
    "- Odds is the ratio of the probability that something will happen to the probability that it won't: $\\frac{p(Event)}{p(\\neg Event)}$\n",
    "- In our case: $\\frac{p(y = 1 \\vert x)}{p(y = 0 \\vert x)}\n",
    "= \\frac{1}{1 + exp(-w^T x)} \\times \\frac{1 + exp(-w^T x)}{exp(-w^T x)}\n",
    "= exp(w^T x)\n",
    "$\n",
    "- Take the log of both sides and what do you see?\n",
    "$w^T x = w_1 x_1 + ... + w_D x_D$ \n",
    "- This is the same formula as linear regression!\n",
    "- **Logistic regression is nothing but us doing linear regression on the log odds.**\n",
    "- Therefore we can go back to our linear regression way of interpreting weights..."
   ]
  }
 ],
 "metadata": {
  "kernelspec": {
   "display_name": "Python 3",
   "language": "python",
   "name": "python3"
  },
  "language_info": {
   "codemirror_mode": {
    "name": "ipython",
    "version": 3
   },
   "file_extension": ".py",
   "mimetype": "text/x-python",
   "name": "python",
   "nbconvert_exporter": "python",
   "pygments_lexer": "ipython3",
   "version": "3.6.1"
  }
 },
 "nbformat": 4,
 "nbformat_minor": 2
}
