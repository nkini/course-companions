{
 "cells": [
  {
   "cell_type": "code",
   "execution_count": 1,
   "metadata": {},
   "outputs": [
    {
     "data": {
      "text/html": [
       "<div>\n",
       "<style>\n",
       "    .dataframe thead tr:only-child th {\n",
       "        text-align: right;\n",
       "    }\n",
       "\n",
       "    .dataframe thead th {\n",
       "        text-align: left;\n",
       "    }\n",
       "\n",
       "    .dataframe tbody tr th {\n",
       "        vertical-align: top;\n",
       "    }\n",
       "</style>\n",
       "<table border=\"1\" class=\"dataframe\">\n",
       "  <thead>\n",
       "    <tr style=\"text-align: right;\">\n",
       "      <th></th>\n",
       "      <th>is_mobile</th>\n",
       "      <th>n_products_viewed</th>\n",
       "      <th>visit_duration</th>\n",
       "      <th>is_returning_visitor</th>\n",
       "      <th>time_of_day</th>\n",
       "      <th>user_action</th>\n",
       "    </tr>\n",
       "  </thead>\n",
       "  <tbody>\n",
       "    <tr>\n",
       "      <th>0</th>\n",
       "      <td>1</td>\n",
       "      <td>0</td>\n",
       "      <td>0.657510</td>\n",
       "      <td>0</td>\n",
       "      <td>3</td>\n",
       "      <td>0</td>\n",
       "    </tr>\n",
       "    <tr>\n",
       "      <th>1</th>\n",
       "      <td>1</td>\n",
       "      <td>1</td>\n",
       "      <td>0.568571</td>\n",
       "      <td>0</td>\n",
       "      <td>2</td>\n",
       "      <td>1</td>\n",
       "    </tr>\n",
       "    <tr>\n",
       "      <th>2</th>\n",
       "      <td>1</td>\n",
       "      <td>0</td>\n",
       "      <td>0.042246</td>\n",
       "      <td>1</td>\n",
       "      <td>1</td>\n",
       "      <td>0</td>\n",
       "    </tr>\n",
       "    <tr>\n",
       "      <th>3</th>\n",
       "      <td>1</td>\n",
       "      <td>1</td>\n",
       "      <td>1.659793</td>\n",
       "      <td>1</td>\n",
       "      <td>1</td>\n",
       "      <td>2</td>\n",
       "    </tr>\n",
       "    <tr>\n",
       "      <th>4</th>\n",
       "      <td>0</td>\n",
       "      <td>1</td>\n",
       "      <td>2.014745</td>\n",
       "      <td>1</td>\n",
       "      <td>1</td>\n",
       "      <td>2</td>\n",
       "    </tr>\n",
       "  </tbody>\n",
       "</table>\n",
       "</div>"
      ],
      "text/plain": [
       "   is_mobile  n_products_viewed  visit_duration  is_returning_visitor  \\\n",
       "0          1                  0        0.657510                     0   \n",
       "1          1                  1        0.568571                     0   \n",
       "2          1                  0        0.042246                     1   \n",
       "3          1                  1        1.659793                     1   \n",
       "4          0                  1        2.014745                     1   \n",
       "\n",
       "   time_of_day  user_action  \n",
       "0            3            0  \n",
       "1            2            1  \n",
       "2            1            0  \n",
       "3            1            2  \n",
       "4            1            2  "
      ]
     },
     "execution_count": 1,
     "metadata": {},
     "output_type": "execute_result"
    }
   ],
   "source": [
    "import numpy as np\n",
    "import pandas as pd\n",
    "\n",
    "df = pd.read_csv('../machine_learning_examples/ann_logistic_extra/ecommerce_data.csv')\n",
    "df.head()"
   ]
  },
  {
   "cell_type": "code",
   "execution_count": 2,
   "metadata": {
    "collapsed": true
   },
   "outputs": [],
   "source": [
    "# Preprocessing data\n",
    "def get_data():\n",
    "    df = pd.read_csv('../machine_learning_examples/ann_logistic_extra/ecommerce_data.csv')\n",
    "    data = df.as_matrix()\n",
    "    \n",
    "    # Split out X and Y\n",
    "    X = data[:, :-1] # All but the last column\n",
    "    Y = data[:, -1]  # The last column\n",
    "    \n",
    "    # Normalize the numerical columns\n",
    "    X[:, 1] = (X[:,1] - X[:,1].mean()) / X[:,1].std()\n",
    "    X[:, 2] = (X[:,2] - X[:,2].mean()) / X[:,2].std()\n",
    "    \n",
    "    # Categorical columns\n",
    "    # get shape of original X\n",
    "    N, D = X.shape    \n",
    "    # new shape, for 4 new categorical values' OHE\n",
    "    X2 = np.zeros((N, D+3)) \n",
    "    # Retained columns:\n",
    "    X2[:, 0:(D-1)] = X[:, 0:(D-1)]\n",
    "    \n",
    "    # OHE for other four columns\n",
    "    # One way of doing it - loop through each sample\n",
    "    for n in range(N):\n",
    "        t = int(X[n, D-1])\n",
    "        X2[n, t + D - 1] = 1\n",
    "    \n",
    "    # Second way of doing it\n",
    "    # Vectorized operation\n",
    "    Z = np.zeros((N, 4))\n",
    "    Z[np.arange(N), X[:, D - 1].astype(np.int32)] = 1\n",
    "    #X2[:, -4:] = Z\n",
    "    \n",
    "    # Testing that method one and method two have the same result:\n",
    "    assert(np.abs(X2[:,-4:] - Z).sum() < 10e-10)\n",
    "    \n",
    "    return X2, Y\n",
    "        \n",
    "    \n",
    "def get_binary_data():\n",
    "    X, Y = get_data()\n",
    "    X2 = X[Y <= 1]\n",
    "    Y2 = Y[Y <= 1]\n",
    "    \n",
    "    return X2, Y2"
   ]
  },
  {
   "cell_type": "code",
   "execution_count": 5,
   "metadata": {},
   "outputs": [
    {
     "name": "stdout",
     "output_type": "stream",
     "text": [
      "Score: 0.620603015075\n"
     ]
    }
   ],
   "source": [
    "# Prediction\n",
    "X, Y = get_binary_data()\n",
    "\n",
    "# Get dimensionality of dataset\n",
    "D = X.shape[1]\n",
    "# init weight vector to same dimensionality\n",
    "# Notice that it is being initialized to random values\n",
    "W = np.random.randn(D)\n",
    "# bias term\n",
    "b = 0 # notice scalar\n",
    "\n",
    "def sigmoid(a):\n",
    "    return 1 / (1 + np.exp(-a))\n",
    "\n",
    "def forward(X, W, b):\n",
    "    return sigmoid(X.dot(W) + b)\n",
    "\n",
    "def classification_rate(Y, P):\n",
    "    return np.mean(Y == P)\n",
    "\n",
    "P_Y_given_X = forward(X, W, b)\n",
    "predictions = np.round(P_Y_given_X)\n",
    "\n",
    "print(\"Score:\", classification_rate(Y, predictions))"
   ]
  },
  {
   "cell_type": "code",
   "execution_count": 6,
   "metadata": {},
   "outputs": [
    {
     "name": "stdout",
     "output_type": "stream",
     "text": [
      "Score: 0.685929648241\n",
      "Score: 0.324120603015\n"
     ]
    }
   ],
   "source": [
    "W = np.random.randn(D)\n",
    "b = 0 # notice scalar\n",
    "P_Y_given_X = forward(X, W, b)\n",
    "predictions = np.round(P_Y_given_X)\n",
    "print(\"Score:\", classification_rate(Y, predictions))\n",
    "\n",
    "W = np.random.randn(D)\n",
    "b = 0 # notice scalar\n",
    "P_Y_given_X = forward(X, W, b)\n",
    "predictions = np.round(P_Y_given_X)\n",
    "print(\"Score:\", classification_rate(Y, predictions))"
   ]
  },
  {
   "cell_type": "code",
   "execution_count": null,
   "metadata": {
    "collapsed": true
   },
   "outputs": [],
   "source": [
    "# Notice the wildly varying classification rates\n",
    "\n",
    "# This was just to show how weights need to be optimized \n",
    "#     in order to make any reasonable prediction."
   ]
  },
  {
   "cell_type": "code",
   "execution_count": 9,
   "metadata": {},
   "outputs": [
    {
     "name": "stdout",
     "output_type": "stream",
     "text": [
      "0 1.98438546894 1.7300468526\n",
      "1000 0.163466919784 0.255250159822\n",
      "2000 0.161957948409 0.259037855832\n",
      "3000 0.161813792882 0.260854864751\n",
      "4000 0.161796420247 0.261543620699\n",
      "5000 0.1617941777 0.261797223027\n",
      "6000 0.161793881329 0.261890086115\n",
      "7000 0.16179384183 0.261924058924\n",
      "8000 0.16179383655 0.261936487481\n",
      "9000 0.161793835843 0.261941034875\n",
      "Final train classification rate: 0.973154362416\n",
      "Final test classification rate: 0.92\n"
     ]
    },
    {
     "data": {
      "text/plain": [
       "<matplotlib.legend.Legend at 0x108a62128>"
      ]
     },
     "execution_count": 9,
     "metadata": {},
     "output_type": "execute_result"
    },
    {
     "data": {
      "image/png": "[encoded data removed]",
      "text/plain": [
       "<matplotlib.figure.Figure at 0x106372748>"
      ]
     },
     "metadata": {},
     "output_type": "display_data"
    }
   ],
   "source": [
    "from sklearn.utils import shuffle\n",
    "import matplotlib.pyplot as plt\n",
    "%matplotlib inline\n",
    "\n",
    "X, Y = get_binary_data()\n",
    "X, Y = shuffle(X, Y)\n",
    "\n",
    "Xtrain, Ytrain, Xtest, Ytest = X[:-100], Y[:-100], X[-100:], Y[-100:]\n",
    "\n",
    "D = X.shape[1]\n",
    "W = np.random.randn(D)\n",
    "b = 0\n",
    "\n",
    "def signmoid(a):\n",
    "    return 1 / (1 + np.exp(-a))\n",
    "\n",
    "def forward(X, W, b):\n",
    "    return sigmoid(X.dot(W) + b)\n",
    "\n",
    "def classification_rate(Y, P):\n",
    "    return np.mean(Y == P)\n",
    "\n",
    "def cross_entropy(T, pY):\n",
    "    return -np.mean(T * np.log(pY) + (1 - T) * np.log(1 - pY))\n",
    "\n",
    "train_costs = []\n",
    "test_costs = []\n",
    "learning_rate = 0.001\n",
    "\n",
    "for i in range(10000):\n",
    "    pYtrain = forward(Xtrain, W, b)\n",
    "    pYtest = forward(Xtest, W, b)\n",
    "    \n",
    "    ctrain = cross_entropy(Ytrain, pYtrain)\n",
    "    ctest= cross_entropy(Ytest, pYtest)\n",
    "    train_costs.append(ctrain)\n",
    "    test_costs.append(ctest)\n",
    "    \n",
    "    # Gradient descent\n",
    "    W -= learning_rate * Xtrain.T.dot(pYtrain - Ytrain)\n",
    "    b -= learning_rate * (pYtrain - Ytrain).sum()\n",
    "    \n",
    "    if i % 1000 == 0:\n",
    "        print(i, ctrain, ctest)\n",
    "        \n",
    "print(\"Final train classification rate:\", classification_rate(Ytrain, np.round(pYtrain)))\n",
    "print(\"Final test classification rate:\", classification_rate(Ytest, np.round(pYtest)))\n",
    "\n",
    "legend1, = plt.plot(train_costs, label='train_cost')\n",
    "legend2, = plt.plot(test_costs, label='test_cost')\n",
    "plt.legend()"
   ]
  },
  {
   "cell_type": "code",
   "execution_count": null,
   "metadata": {
    "collapsed": true
   },
   "outputs": [],
   "source": []
  }
 ],
 "metadata": {
  "kernelspec": {
   "display_name": "Python 3",
   "language": "python",
   "name": "python3"
  },
  "language_info": {
   "codemirror_mode": {
    "name": "ipython",
    "version": 3
   },
   "file_extension": ".py",
   "mimetype": "text/x-python",
   "name": "python",
   "nbconvert_exporter": "python",
   "pygments_lexer": "ipython3",
   "version": "3.6.1"
  }
 },
 "nbformat": 4,
 "nbformat_minor": 2
}
