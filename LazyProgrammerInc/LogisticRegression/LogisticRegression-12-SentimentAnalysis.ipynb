{
 "cells": [
  {
   "cell_type": "code",
   "execution_count": 1,
   "metadata": {},
   "outputs": [
    {
     "name": "stdout",
     "output_type": "stream",
     "text": [
      "<review>\r\n",
      "<unique_id>\r\n",
      "B00005UKBG:bad:j._brodeur_\"disgusted_consumer\"\r\n",
      "</unique_id>\r\n",
      "<asin>\r\n",
      "B00005UKBG\r\n",
      "</asin>\r\n",
      "<product_name>\r\n",
      "Atlantic 1316 CD Storage Case (110-Capacity, Wave): Electronics\r\n",
      "</product_name>\r\n"
     ]
    }
   ],
   "source": [
    "# Data: https://www.cs.jhu.edu/~mdredze/datasets/sentiment/index2.html\n",
    "# electronics directory\n",
    "# These are Amazon reviews\n",
    "!head sentiment-analysis-data/negative.review"
   ]
  },
  {
   "cell_type": "code",
   "execution_count": 2,
   "metadata": {
    "collapsed": true
   },
   "outputs": [],
   "source": [
    "# We'll use Beautiful soup and only the key review_text\n",
    "# 2 passes over data: 1. Determine vocab size \n",
    "#                         and which index corresponds to which index\n",
    "#                     2. Create data vectors\n",
    "# Use logistic regression once the vectors are created\n",
    "\n",
    "# The key idea here is that dimensions correspond to words\n",
    "#   and words whose weight has a large magnitude are important\n",
    "#   discriminators of positive and negative sentiment."
   ]
  },
  {
   "cell_type": "code",
   "execution_count": 3,
   "metadata": {
    "collapsed": true
   },
   "outputs": [],
   "source": [
    "# X : One-hot encoded bag of words\n",
    "# Y : 1 or 0 (positive / negative)\n",
    "\n",
    "import nltk\n",
    "import numpy as np\n",
    "from nltk.stem import WordNetLemmatizer\n",
    "from sklearn.linear_model import LogisticRegression\n",
    "from bs4 import BeautifulSoup"
   ]
  },
  {
   "cell_type": "code",
   "execution_count": 4,
   "metadata": {
    "collapsed": true
   },
   "outputs": [],
   "source": [
    "from nltk.corpus import stopwords\n",
    "wordnet_lemmatizer = WordNetLemmatizer()\n",
    "positive_reviews = BeautifulSoup(open('sentiment-analysis-data/positive.review'), 'html5lib').findAll('review_text')\n",
    "negative_reviews = BeautifulSoup(open('sentiment-analysis-data/negative.review'), 'html5lib').findAll('review_text')"
   ]
  },
  {
   "cell_type": "code",
   "execution_count": 6,
   "metadata": {},
   "outputs": [],
   "source": [
    "# Since the number of positive and negative reviews are imbalanced...\n",
    "# (more positive), make the number equal\n",
    "np.random.shuffle(positive_reviews)\n",
    "positive_reviews = positive_reviews[:len(negative_reviews)]"
   ]
  },
  {
   "cell_type": "code",
   "execution_count": 13,
   "metadata": {},
   "outputs": [],
   "source": [
    "# Create index for each word for the index of each word in the final vector\n",
    "# First find out which words and assign indices\n",
    "word_index_map = {}\n",
    "current_index = 0\n",
    "\n",
    "def my_tokenizer(s):\n",
    "    # Lowercase everything\n",
    "    s = s.lower()\n",
    "    tokens = nltk.tokenize.word_tokenize(s)\n",
    "    # throw our short words\n",
    "    tokens = [t for t in tokens if len(t) > 2]\n",
    "    # Lemmatize to turn words into base forms\n",
    "    tokens = [wordnet_lemmatizer.lemmatize(t) for t in tokens]\n",
    "    # remove stop words\n",
    "    tokens = [t for t in tokens if t not in stopwords.words()]\n",
    "    return tokens\n",
    "\n",
    "# Save tokenized arrays for later use\n",
    "\n",
    "positive_tokenized = []\n",
    "negative_tokenized = []\n",
    "\n",
    "for review in positive_reviews:\n",
    "    tokens = my_tokenizer(review.text)\n",
    "    positive_tokenized.append(tokens)\n",
    "    for token in tokens:\n",
    "        if token not in word_index_map:\n",
    "            word_index_map[token] = current_index\n",
    "            current_index += 1\n",
    "            \n",
    "for review in negative_reviews:\n",
    "    tokens = my_tokenizer(review.text)\n",
    "    negative_tokenized.append(tokens)\n",
    "    for token in tokens:\n",
    "        if token not in word_index_map:\n",
    "            word_index_map[token] = current_index\n",
    "            current_index += 1"
   ]
  },
  {
   "cell_type": "code",
   "execution_count": 15,
   "metadata": {},
   "outputs": [
    {
     "name": "stdout",
     "output_type": "stream",
     "text": [
      "Classification rate 0.72\n"
     ]
    }
   ],
   "source": [
    "# Take each token and create a data array\n",
    "\n",
    "def token_to_vector(tokens, label):\n",
    "    # Passing two arguments to make shuffling easy\n",
    "    x = np.zeros(len(word_index_map) + 1)\n",
    "    # (+ 1 for the labels)\n",
    "    \n",
    "    for t in tokens:\n",
    "        i = word_index_map[t]\n",
    "        x[i] += 1\n",
    "    # Word proportion instead of counts\n",
    "    x = x / x.sum()\n",
    "    x[-1] = label\n",
    "    return x\n",
    "\n",
    "\n",
    "N = len(positive_tokenized) + len(negative_tokenized)\n",
    "\n",
    "data = np.zeros((N, len(word_index_map) + 1))\n",
    "i = 0 # which sample I'm looiking at\n",
    "\n",
    "for tokens in positive_tokenized:\n",
    "    xy = token_to_vector(tokens, 1)\n",
    "    data[i,:] = xy\n",
    "    i += 1\n",
    "    \n",
    "for tokens in negative_tokenized:\n",
    "    xy = token_to_vector(tokens, 0)\n",
    "    data[i,:] = xy\n",
    "    i += 1\n",
    "\n",
    "np.random.shuffle(data)\n",
    "\n",
    "X = data[:, :-1]\n",
    "Y = data[:, -1]\n",
    "\n",
    "Xtrain = X[:-100,]\n",
    "Ytrain = Y[:-100,]\n",
    "Xtest = X[-100:,]\n",
    "Ytest = Y[-100:,]\n",
    "\n",
    "model = LogisticRegression()\n",
    "model.fit(Xtrain, Ytrain)\n",
    "print(\"Classification rate\", model.score(Xtest, Ytest))"
   ]
  },
  {
   "cell_type": "code",
   "execution_count": 16,
   "metadata": {},
   "outputs": [
    {
     "name": "stdout",
     "output_type": "stream",
     "text": [
      "best : 0.9817\n",
      "easy : 1.4088\n",
      "doe : -1.0727\n",
      "back : -1.4086\n",
      "price : 2.2901\n",
      "well : 0.9267\n",
      "great : 3.5278\n",
      "get : -1.0626\n",
      "used : 0.9944\n",
      "item : -0.9187\n",
      "quality : 1.3815\n",
      "use : 1.5314\n",
      "thing : -0.8338\n",
      "memory : 0.7959\n",
      "n't : -1.9429\n",
      "little : 0.7215\n",
      "buy : -0.7904\n",
      "wa : -1.2653\n",
      "support : -0.8038\n",
      "good : 2.0053\n",
      "sound : 1.0552\n",
      "month : -0.7037\n",
      "love : 0.9368\n",
      "highly : 0.8778\n",
      "money : -0.7546\n",
      "fast : 0.7891\n",
      "perfect : 0.8587\n",
      "would : -0.7879\n",
      "speaker : 0.7676\n",
      "excellent : 1.2280\n",
      "waste : -0.8519\n",
      "return : -0.9906\n"
     ]
    }
   ],
   "source": [
    "# We can look at the weights to see which words have positive or negative sentiment\n",
    "threshold = 0.7\n",
    "\n",
    "for word, index in word_index_map.items():\n",
    "    weight = model.coef_[0][index]\n",
    "    if weight > threshold or weight < -threshold:\n",
    "        print('{} : {:.4f}'.format(word, weight))"
   ]
  }
 ],
 "metadata": {
  "kernelspec": {
   "display_name": "Python 3",
   "language": "python",
   "name": "python3"
  },
  "language_info": {
   "codemirror_mode": {
    "name": "ipython",
    "version": 3
   },
   "file_extension": ".py",
   "mimetype": "text/x-python",
   "name": "python",
   "nbconvert_exporter": "python",
   "pygments_lexer": "ipython3",
   "version": "3.6.1"
  }
 },
 "nbformat": 4,
 "nbformat_minor": 2
}
