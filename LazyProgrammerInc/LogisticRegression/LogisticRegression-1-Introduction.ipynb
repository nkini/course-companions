{
 "cells": [
  {
   "cell_type": "markdown",
   "metadata": {},
   "source": [
    "- Logistic Regression is a linear classifier\n",
    "- We will see:\n",
    "    - The biological inspiration - neurons and perceptron\n",
    "    - Logistic regression schematic\n",
    "    - Feedforward mechanism, probabilistic interpretation\n",
    "    - Cross-entropy error function\n",
    "    - Max-likelihood\n",
    "    - Gradient Descent\n",
    "    - Practical problems\n",
    "        - Regularization\n",
    "        - Donut problem\n",
    "        - XOR problem\n",
    "        \n",
    "        \n",
    "- Course Project\n",
    "    - Predict user actions on site\n",
    "    - Direct monetary impact\n",
    "        - Predict bounce -> pop up to \n",
    "        - Aspects of the site which are weak (not completing checkout)\n",
    "        - Mobile experience user friendliness (buying mobile vs desktop)\n",
    "     - Labels: (bounce, add_to_cart, begin_checkout, finish_checkout)"
   ]
  },
  {
   "cell_type": "code",
   "execution_count": 4,
   "metadata": {},
   "outputs": [
    {
     "data": {
      "text/plain": [
       "array([3, 2, 1, 0])"
      ]
     },
     "execution_count": 4,
     "metadata": {},
     "output_type": "execute_result"
    }
   ],
   "source": [
    "# A form of data preprocessing \n",
    "# One hot encoding example:\n",
    "import pandas as pd\n",
    "df = pd.read_csv('../machine_learning_examples/ann_logistic_extra/ecommerce_data.csv')\n",
    "df.time_of_day.unique()\n",
    "# Time of day has already been categorized into 4 classes - 0, 1, 2, 3"
   ]
  },
  {
   "cell_type": "code",
   "execution_count": 13,
   "metadata": {},
   "outputs": [
    {
     "data": {
      "text/html": [
       "<div>\n",
       "<style>\n",
       "    .dataframe thead tr:only-child th {\n",
       "        text-align: right;\n",
       "    }\n",
       "\n",
       "    .dataframe thead th {\n",
       "        text-align: left;\n",
       "    }\n",
       "\n",
       "    .dataframe tbody tr th {\n",
       "        vertical-align: top;\n",
       "    }\n",
       "</style>\n",
       "<table border=\"1\" class=\"dataframe\">\n",
       "  <thead>\n",
       "    <tr style=\"text-align: right;\">\n",
       "      <th></th>\n",
       "      <th>time_of_day</th>\n",
       "      <th>time_0</th>\n",
       "      <th>time_1</th>\n",
       "      <th>time_2</th>\n",
       "      <th>time_3</th>\n",
       "    </tr>\n",
       "  </thead>\n",
       "  <tbody>\n",
       "    <tr>\n",
       "      <th>0</th>\n",
       "      <td>3</td>\n",
       "      <td>0</td>\n",
       "      <td>0</td>\n",
       "      <td>0</td>\n",
       "      <td>1</td>\n",
       "    </tr>\n",
       "    <tr>\n",
       "      <th>1</th>\n",
       "      <td>2</td>\n",
       "      <td>0</td>\n",
       "      <td>0</td>\n",
       "      <td>1</td>\n",
       "      <td>0</td>\n",
       "    </tr>\n",
       "    <tr>\n",
       "      <th>2</th>\n",
       "      <td>1</td>\n",
       "      <td>0</td>\n",
       "      <td>1</td>\n",
       "      <td>0</td>\n",
       "      <td>0</td>\n",
       "    </tr>\n",
       "    <tr>\n",
       "      <th>3</th>\n",
       "      <td>1</td>\n",
       "      <td>0</td>\n",
       "      <td>1</td>\n",
       "      <td>0</td>\n",
       "      <td>0</td>\n",
       "    </tr>\n",
       "    <tr>\n",
       "      <th>4</th>\n",
       "      <td>1</td>\n",
       "      <td>0</td>\n",
       "      <td>1</td>\n",
       "      <td>0</td>\n",
       "      <td>0</td>\n",
       "    </tr>\n",
       "  </tbody>\n",
       "</table>\n",
       "</div>"
      ],
      "text/plain": [
       "   time_of_day  time_0  time_1  time_2  time_3\n",
       "0            3       0       0       0       1\n",
       "1            2       0       0       1       0\n",
       "2            1       0       1       0       0\n",
       "3            1       0       1       0       0\n",
       "4            1       0       1       0       0"
      ]
     },
     "execution_count": 13,
     "metadata": {},
     "output_type": "execute_result"
    }
   ],
   "source": [
    "# The key to not using these numbers as is\n",
    "#   is the realization that these numbers\n",
    "#   are really labels, rather than a measure.\n",
    "# A number has meaning as a feature only when \n",
    "#   the number can be attributed interpretation \n",
    "#   of scale and distance.\n",
    "\n",
    "import numpy as np\n",
    "# Convert time of data into one-hot vectors.\n",
    "'''\n",
    "time0 = np.array([1,0,0,0])\n",
    "time1 = np.array([0,1,0,0])\n",
    "time2 = np.array([0,0,1,0])\n",
    "time3 = np.array([0,0,0,1])\n",
    "'''\n",
    "\n",
    "df[['time_of_day']].join(pd.get_dummies(df['time_of_day'], prefix='time')).head()"
   ]
  },
  {
   "cell_type": "markdown",
   "metadata": {},
   "source": [
    "### Linear regression in its simplest form:\n",
    "\n",
    "2D classification\n",
    "\n",
    "$y = mx + b$ or $0 = ax + by + c$\n"
   ]
  },
  {
   "cell_type": "code",
   "execution_count": 33,
   "metadata": {},
   "outputs": [
    {
     "data": {
      "text/plain": [
       "[<matplotlib.lines.Line2D at 0x112615668>]"
      ]
     },
     "execution_count": 33,
     "metadata": {},
     "output_type": "execute_result"
    },
    {
     "data": {
      "image/png": "[encoded data removed]",
      "text/plain": [
       "<matplotlib.figure.Figure at 0x11220d080>"
      ]
     },
     "metadata": {},
     "output_type": "display_data"
    }
   ],
   "source": [
    "import numpy as np\n",
    "import matplotlib.pyplot as plt\n",
    "%matplotlib inline\n",
    "\n",
    "mu1 = [-2,2]\n",
    "cov1 = [[1, 0], [0, 1]]\n",
    "class1 = [np.random.multivariate_normal(mu1, cov1) for _ in range(20)]\n",
    "\n",
    "mu2 = [2,-2]\n",
    "cov2 = [[1, 0], [0, 1]]\n",
    "class2 = [np.random.multivariate_normal(mu2, cov2) for _ in range(20)]\n",
    "\n",
    "class1X, class1Y = zip(*class1)\n",
    "class2X, class2Y = zip(*class2)\n",
    "\n",
    "plt.plot(class1X, class1Y, 'rx')\n",
    "plt.plot(class2X, class2Y, 'bo')\n",
    "\n",
    "X = Y = [-4,-3,-2,-1,0,1,2,3,4]\n",
    "plt.plot(X, Y)\n",
    "\n",
    "plt.plot(2, 1, 'g^')\n",
    "plt.plot(1, 2, 'gs')"
   ]
  },
  {
   "cell_type": "markdown",
   "metadata": {},
   "source": [
    "In the figure above, we use $a = 1, b = -1, c = 0$ in the equation $0 = ax + by + c$\n",
    "\n",
    "In other words, 0 = x - y is the line.\n",
    "\n",
    "Suppose you get new points $(2, 1)$ and $(1, 2)$. Should it be classified as x or $o$?\n",
    "\n",
    "$h(x, y) = x - y$\n",
    "\n",
    "$h(2, 1) = 1 > 0 \\Rightarrow o$\n",
    "\n",
    "$h(1, 2) = -1 < 0 \\Rightarrow x$\n",
    "\n",
    "So, $h(x, y) = 0$ is the line that separates the classes. $h(x, y) > 0$ is one class and $h(x, y) < 0$ is another class.\n",
    "\n",
    "\n",
    "### Machine Learning Lingo\n",
    "\n",
    "$(x, y) \\Rightarrow (x_1, x_2) = \\mathbf{x}$ \n",
    "\n",
    "We rename constants $a, b, c$ to $w_i$. Specifically, the bias term $c$ is $w_0$.\n",
    "\n",
    "$h(\\mathbf{x}) = w_0 + w_1 x_1 + w_2 x_2$\n",
    "\n",
    "$h$ is a **linear combination of the components of x**\n",
    "\n",
    "In vector form $h(\\mathbf{x}) = \\mathbf{w}^T \\mathbf{x}$\n",
    "\n",
    "- We saw that in 2 dimensions (when $\\mathbf{x}$ had 2 components), the separator was a line. \n",
    "- In 3 dimensions, the separator is a plane\n",
    "- For > 3 dimensions, it is called a hyperplane\n",
    "- If we had a non-linear function separating our data, we would call it a hypersurface.\n",
    "\n",
    "### Difference between logistic regression and general linear classifier\n",
    "- A logistic function at the end which gives a number between zero and one\n",
    "- When classifying, we say anything above 0.5 is class 1 and anything below 0.5 is class 0.\n",
    "- Before we had $\\mathbf{w} * \\mathbf{x} > 0 \\Rightarrow 1$\n",
    "- Now we have   $\\sigma(\\mathbf{w} * \\mathbf{x}) > 0.5 \\Rightarrow 1$"
   ]
  },
  {
   "cell_type": "code",
   "execution_count": 34,
   "metadata": {
    "collapsed": true
   },
   "outputs": [],
   "source": [
    "# Why Sigmoid de-facto and not something else: https://stats.stackexchange.com/questions/162988/why-sigmoid-function-instead-of-anything-else"
   ]
  },
  {
   "cell_type": "code",
   "execution_count": 35,
   "metadata": {},
   "outputs": [
    {
     "name": "stdout",
     "output_type": "stream",
     "text": [
      "[ 0.76372798  0.42173098  0.70582225  0.86555053  0.65074132  0.74696046\n",
      "  0.50538487  0.75200702  0.70559783  0.76527019  0.71591875  0.78504095\n",
      "  0.48010999  0.64079714  0.33262526  0.78352     0.71049081  0.4398705\n",
      "  0.50266377  0.60133564  0.31552435  0.2921048   0.46843683  0.49764743\n",
      "  0.64883721  0.62512267  0.85902931  0.77536915  0.70610252  0.434774\n",
      "  0.73731729  0.61891731  0.69665299  0.69146931  0.86052316  0.67258021\n",
      "  0.55395166  0.71939092  0.73337996  0.87064307  0.46041377  0.49417166\n",
      "  0.10084354  0.17373094  0.86891621  0.67707434  0.53379312  0.83156036\n",
      "  0.66217281  0.70030263  0.7628844   0.66046719  0.58835664  0.56847507\n",
      "  0.25485415  0.75695949  0.71917909  0.60236833  0.70009452  0.45356009\n",
      "  0.4149765   0.28811354  0.59728268  0.81937893  0.31970133  0.62245781\n",
      "  0.84940082  0.27155398  0.6249418   0.89386309  0.64556564  0.34215879\n",
      "  0.56526217  0.47170097  0.81431766  0.65407601  0.59588572  0.72247865\n",
      "  0.74098977  0.55588153  0.65421318  0.59159221  0.56924362  0.534351\n",
      "  0.54787844  0.60578149  0.33689421  0.62033304  0.2300553   0.80427518\n",
      "  0.67076139  0.6527542   0.67404438  0.41964795  0.67193347  0.65890223\n",
      "  0.36571091  0.58332282  0.68652559  0.69524268]\n"
     ]
    }
   ],
   "source": [
    "N = 100\n",
    "D = 2\n",
    "\n",
    "X = np.random.randn(N, D)\n",
    "\n",
    "# Adding columns of ones for the bias\n",
    "ones = np.array([[1] * N]).T\n",
    "\n",
    "Xb = np.concatenate((ones , X), axis=1)\n",
    "\n",
    "w = np.random.randn(D + 1)\n",
    "\n",
    "z = Xb.dot(w) #Compare with W^t X\n",
    "\n",
    "def sigmoid(z):\n",
    "    return 1 / (1 + np.exp(-z))\n",
    "\n",
    "print(sigmoid(z))"
   ]
  },
  {
   "cell_type": "code",
   "execution_count": 36,
   "metadata": {
    "collapsed": true
   },
   "outputs": [],
   "source": [
    "# Pause for a moment and think what this meant.\n",
    "# D = 2 implies a 2 component/feature input\n",
    "# N = 100 implies a 100 datapoints\n",
    "# Note that we aren't doing any classification here, just sigmoid\n",
    "# Also note how the built-in function took an array z and exponentiated \n",
    "#    it elementwise"
   ]
  }
 ],
 "metadata": {
  "kernelspec": {
   "display_name": "Python 3",
   "language": "python",
   "name": "python3"
  },
  "language_info": {
   "codemirror_mode": {
    "name": "ipython",
    "version": 3
   },
   "file_extension": ".py",
   "mimetype": "text/x-python",
   "name": "python",
   "nbconvert_exporter": "python",
   "pygments_lexer": "ipython3",
   "version": "3.6.1"
  }
 },
 "nbformat": 4,
 "nbformat_minor": 2
}
