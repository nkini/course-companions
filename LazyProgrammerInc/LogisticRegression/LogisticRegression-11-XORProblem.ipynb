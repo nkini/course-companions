{
 "cells": [
  {
   "cell_type": "code",
   "execution_count": 1,
   "metadata": {},
   "outputs": [
    {
     "data": {
      "image/png": "[encoded data removed]",
      "text/plain": [
       "<matplotlib.figure.Figure at 0x10aec5320>"
      ]
     },
     "metadata": {},
     "output_type": "display_data"
    }
   ],
   "source": [
    "import numpy as np\n",
    "import matplotlib.pyplot as plt\n",
    "\n",
    "N = 4\n",
    "D = 2\n",
    "\n",
    "# XOR inputs\n",
    "X = np.array([\n",
    "    [0, 0],\n",
    "    [0, 1],\n",
    "    [1, 0],\n",
    "    [1, 1]\n",
    "])\n",
    "\n",
    "# Output of the XOR\n",
    "T = np.array([0, 1, 1, 0])\n",
    "\n",
    "ones = np.array([[1] * N]).T\n",
    "\n",
    "plt.scatter(X[:, 0], X[:, 1], c=T)\n",
    "plt.show()"
   ]
  },
  {
   "cell_type": "markdown",
   "metadata": {
    "collapsed": true
   },
   "source": [
    "Trick: Insert a dimension to our input... turn it into a 3d problem instead of a 2D problem"
   ]
  },
  {
   "cell_type": "code",
   "execution_count": 3,
   "metadata": {},
   "outputs": [
    {
     "name": "stdout",
     "output_type": "stream",
     "text": [
      "4.68911104121\n",
      "4.2275396254\n",
      "3.84183296459\n",
      "3.5344957415\n",
      "3.30135774834\n",
      "3.13246598787\n",
      "3.01474875697\n",
      "2.93497665942\n",
      "2.88177716016\n",
      "2.84640233804\n",
      "2.82261912106\n",
      "2.80621286639\n",
      "2.79443311236\n",
      "2.78552737796\n",
      "2.7783969386\n",
      "2.77236043287\n",
      "2.76699845375\n",
      "2.76205414573\n",
      "2.7573707439\n",
      "2.752852785\n",
      "2.74844220993\n",
      "2.74410372134\n",
      "2.73981584656\n",
      "2.73556549795\n",
      "2.73134466864\n",
      "2.72714842858\n",
      "2.72297371052\n",
      "2.71881857527\n",
      "2.71468176737\n",
      "2.71056244648\n",
      "2.70646002517\n",
      "2.70237407091\n",
      "2.69830424696\n",
      "2.69425027658\n",
      "2.6902119215\n",
      "2.68618896883\n",
      "2.68218122311\n",
      "2.67818850153\n",
      "2.67421063093\n",
      "2.67024744591\n",
      "2.6662987877\n",
      "2.66236450337\n",
      "2.65844444524\n",
      "2.65453847057\n",
      "2.65064644121\n",
      "2.64676822337\n",
      "2.64290368741\n",
      "2.63905270765\n",
      "2.63521516221\n",
      "2.63139093283\n",
      "Final w: [-0.35653409  0.5884802  -0.13126088 -0.09313561] epochs = 5000 Classification rate 0.75\n"
     ]
    }
   ],
   "source": [
    "# If we mulitple the X and Y into a new variable,\n",
    "#    we can make the data linearly separable.\n",
    "\n",
    "# Logistic regression may not be good for this because\n",
    "#    a straight line pass through this?\n",
    "\n",
    "# Wait a minute and check this out:\n",
    "ones = np.array([[1] * N]).T\n",
    "\n",
    "# The trick: Creating yet another column that represents\n",
    "#    the radius of the points\n",
    "r = np.zeros((N,1))\n",
    "for i in range(N):\n",
    "    r[i] = np.sqrt(X[i,:].dot(X[i,:]))\n",
    "    \n",
    "    \n",
    "Xb = np.concatenate((ones, r, X), axis=1)\n",
    "\n",
    "w = np.random.rand(D + 2)\n",
    "\n",
    "z = Xb.dot(w)\n",
    "\n",
    "def sigmoid(z):\n",
    "    return 1 / (1 + np.exp(-z))\n",
    "\n",
    "def cross_entropy2(T, Y):\n",
    "    E = 0\n",
    "    for i in range(N):\n",
    "        if T[i] == 1:\n",
    "            E -= np.log(Y[i])\n",
    "        else:\n",
    "            E -= np.log(1 - Y[i])\n",
    "    return E\n",
    "\n",
    "Y = sigmoid(z)\n",
    "\n",
    "learning_rate = 0.001\n",
    "error = []\n",
    "epochs = 5000\n",
    "for i in range(epochs):\n",
    "    e = cross_entropy2(T, Y)\n",
    "    error.append(e)\n",
    "    if i % 100 == 0:\n",
    "        print(e)\n",
    "        \n",
    "    w += learning_rate * (np.dot((T - Y).T, Xb) - 0.01 * w)\n",
    "    \n",
    "    Y = sigmoid(Xb.dot(w))\n",
    "    \n",
    "plt.plot(error)\n",
    "plt.title('Cross-entropy per iteration')\n",
    "\n",
    "cr = 1 - np.abs(T - np.round(Y)).sum() / N\n",
    "print(\"Final w:\", w, \"epochs =\", epochs, \"Classification rate\", cr)"
   ]
  },
  {
   "cell_type": "code",
   "execution_count": 4,
   "metadata": {},
   "outputs": [
    {
     "data": {
      "image/png": "[encoded data removed]",
      "text/plain": [
       "<matplotlib.figure.Figure at 0x10c50c080>"
      ]
     },
     "metadata": {},
     "output_type": "display_data"
    }
   ],
   "source": [
    "# Notice how the classification rate isn't perfect, \n",
    "#     even though it could be\n",
    "plt.show()"
   ]
  },
  {
   "cell_type": "code",
   "execution_count": 8,
   "metadata": {
    "collapsed": true
   },
   "outputs": [],
   "source": [
    "# One could try \n",
    "# - iterate more times\n",
    "# - increase learning rate.\n",
    "\n",
    "# Let's try this\n",
    "\n",
    "# If we mulitple the X and Y into a new variable,\n",
    "#    we can make the data linearly separable.\n",
    "\n",
    "# Logistic regression may not be good for this because\n",
    "#    a straight line pass through this?\n",
    "\n",
    "# Wait a minute and check this out:\n",
    "ones = np.array([[1] * N]).T\n",
    "\n",
    "# The trick: Creating yet another column that represents\n",
    "#    the radius of the points\n",
    "r = np.zeros((N,1))\n",
    "for i in range(N):\n",
    "    r[i] = np.sqrt(X[i,:].dot(X[i,:]))\n",
    "    \n",
    "    \n",
    "Xb = np.concatenate((ones, r, X), axis=1)\n",
    "\n",
    "w_orig = np.random.rand(D + 2)\n",
    "\n",
    "def doWeightLearning(w, Xb, T, alpha, num_epochs):\n",
    "    z = Xb.dot(w)\n",
    "    Y = sigmoid(z)\n",
    "\n",
    "    # learning_rate = 0.001 #Replaced by alpha\n",
    "    \n",
    "    error = []\n",
    "    # epochs = 5000 # Replaced by num_epochs\n",
    "    for i in range(num_epochs):\n",
    "        e = cross_entropy2(T, Y)\n",
    "        error.append(e)\n",
    "        w += learning_rate * (np.dot((T - Y).T, Xb) - 0.01 * w)\n",
    "        Y = sigmoid(Xb.dot(w))\n",
    "\n",
    "    plt.plot(error)\n",
    "    plt.title('Cross-entropy per iteration')\n",
    "    plt.show()\n",
    "\n",
    "    cr = 1 - np.abs(T - np.round(Y)).sum() / N\n",
    "    print(\"Final w:\", w, \"epochs =\", num_epochs, \"Classification rate\", cr)"
   ]
  },
  {
   "cell_type": "code",
   "execution_count": 9,
   "metadata": {},
   "outputs": [
    {
     "data": {
      "image/png": "[encoded data removed]",
      "text/plain": [
       "<matplotlib.figure.Figure at 0x10c6de278>"
      ]
     },
     "metadata": {},
     "output_type": "display_data"
    },
    {
     "name": "stdout",
     "output_type": "stream",
     "text": [
      "Final w: [-0.21284393  0.40670055 -0.03513931 -0.11352628] epochs = 5000 Classification rate 0.75\n"
     ]
    }
   ],
   "source": [
    "w = w_orig[:]\n",
    "# Baseline\n",
    "doWeightLearning(w, Xb, T, alpha=0.001, num_epochs=5000)"
   ]
  },
  {
   "cell_type": "code",
   "execution_count": 10,
   "metadata": {},
   "outputs": [
    {
     "data": {
      "image/png": "[encoded data removed]",
      "text/plain": [
       "<matplotlib.figure.Figure at 0x10c6fb208>"
      ]
     },
     "metadata": {},
     "output_type": "display_data"
    },
    {
     "name": "stdout",
     "output_type": "stream",
     "text": [
      "Final w: [-0.95223349  4.76380086 -3.10156979 -3.10157015] epochs = 50000 Classification rate 1.0\n"
     ]
    }
   ],
   "source": [
    "w = w_orig[:]\n",
    "# Iterate more times\n",
    "doWeightLearning(w, Xb, T, alpha=0.001, num_epochs=50000)\n",
    "# Worked"
   ]
  },
  {
   "cell_type": "code",
   "execution_count": 11,
   "metadata": {},
   "outputs": [
    {
     "data": {
      "image/png": "[encoded data removed]",
      "text/plain": [
       "<matplotlib.figure.Figure at 0x10c726400>"
      ]
     },
     "metadata": {},
     "output_type": "display_data"
    },
    {
     "name": "stdout",
     "output_type": "stream",
     "text": [
      "Final w: [-0.98388598  5.00331573 -3.27455894 -3.27455905] epochs = 5000 Classification rate 1.0\n"
     ]
    }
   ],
   "source": [
    "w = w_orig[:]\n",
    "# Increase learning rate\n",
    "doWeightLearning(w, Xb, T, alpha=0.01, num_epochs=5000)\n",
    "# Worked"
   ]
  },
  {
   "cell_type": "markdown",
   "metadata": {},
   "source": [
    "- We saw that we could apply Logistic Regression to some complex problems by creating our own features.\n",
    "- We looked at the data, saw what kind of features would help aid classification.\n",
    "- Neural Networks can do this automatically."
   ]
  }
 ],
 "metadata": {
  "kernelspec": {
   "display_name": "Python 3",
   "language": "python",
   "name": "python3"
  },
  "language_info": {
   "codemirror_mode": {
    "name": "ipython",
    "version": 3
   },
   "file_extension": ".py",
   "mimetype": "text/x-python",
   "name": "python",
   "nbconvert_exporter": "python",
   "pygments_lexer": "ipython3",
   "version": "3.6.1"
  }
 },
 "nbformat": 4,
 "nbformat_minor": 2
}
