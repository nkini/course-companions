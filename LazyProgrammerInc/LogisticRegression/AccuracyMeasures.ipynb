{
 "cells": [
  {
   "cell_type": "markdown",
   "metadata": {},
   "source": [
    "<img src='ConfusionMatrix.jpg'>"
   ]
  },
  {
   "cell_type": "markdown",
   "metadata": {},
   "source": [
    "- False Negatives can be dangerous in the medical field\n",
    "- False Positives can be dangerous in the judicial field"
   ]
  },
  {
   "cell_type": "markdown",
   "metadata": {},
   "source": [
    "### Accuracy\n",
    "\n",
    "accuracy = (TP + TN) / (TP + TN + FP + FN)"
   ]
  },
  {
   "cell_type": "code",
   "execution_count": 2,
   "metadata": {
    "collapsed": true
   },
   "outputs": [],
   "source": [
    "# Effectively, the number of correctly predicted things among all predictions\n",
    "# The numerator is the diagonal"
   ]
  },
  {
   "cell_type": "markdown",
   "metadata": {},
   "source": [
    "### Sensitivity or Hit Rate or Recall or TPR\n",
    "\n",
    "sensitivity = TP / (TP + FN)"
   ]
  },
  {
   "cell_type": "code",
   "execution_count": 3,
   "metadata": {
    "collapsed": true
   },
   "outputs": [],
   "source": [
    "# Effectively, how good are you at predicting true positives\n",
    "# Note that all numbers are only in the TRUE column"
   ]
  },
  {
   "cell_type": "markdown",
   "metadata": {},
   "source": [
    "### Specificity (1 - FPR)"
   ]
  },
  {
   "cell_type": "markdown",
   "metadata": {},
   "source": [
    "specificity = TN / (TN + FP)"
   ]
  },
  {
   "cell_type": "code",
   "execution_count": 5,
   "metadata": {
    "collapsed": true
   },
   "outputs": [],
   "source": [
    "# The true negative rate, or how well do we predict true negatives\n",
    "# All numbers in the FALSE column"
   ]
  },
  {
   "cell_type": "markdown",
   "metadata": {},
   "source": [
    "### Precision"
   ]
  },
  {
   "cell_type": "markdown",
   "metadata": {},
   "source": [
    "precision = TP / (TP + FP)"
   ]
  },
  {
   "cell_type": "code",
   "execution_count": 9,
   "metadata": {
    "collapsed": true
   },
   "outputs": [],
   "source": [
    "# All numbers in the TRUE row"
   ]
  },
  {
   "cell_type": "markdown",
   "metadata": {},
   "source": [
    "### Area under the curve\n",
    "\n",
    "- When classifying using a threshold, one can get different FPR / TPR / Precision for different thresholds. Plotting these different values for different thresholds gives us one of two curves:\n",
    "    - The Precision Recall curve\n",
    "    - The Receive Operating Characteric curve\n",
    "\n",
    "Use Precision Recall area under curve for class imbalance problems. If not, Receiver Operating Characteristic area under curve.\n",
    "\n",
    "\"One note though, if your problem set is small (thus having fewer points in PR curve), the PR AUC metric could be over-optimistic because AUC is calculated via the trapezoid rule, but linear interpolation on the PR curve does not work very well, which the PR curve example above looks very wiggly.\" - http://www.chioka.in/differences-between-roc-auc-and-pr-auc/\n",
    "\n",
    "Good reads:\n",
    "- http://www.chioka.in/differences-between-roc-auc-and-pr-auc/\n",
    "- [The Relationship Between Precision-Recall and ROC Curves, Jesse Davis, Mark Goadrich](http://pages.cs.wisc.edu/~jdavis/davisgoadrichcamera2.pdf)"
   ]
  },
  {
   "cell_type": "markdown",
   "metadata": {},
   "source": [
    "<img src='ROC_space-2.png'>\n",
    "\n",
    "Attribution: By ROC_space.png: Indonderivative work: Kai walz (talk) - ROC_space.png, CC BY-SA 3.0, https://commons.wikimedia.org/w/index.php?curid=8326140"
   ]
  },
  {
   "cell_type": "markdown",
   "metadata": {},
   "source": [
    "<img src='PRCurve.png'>\n",
    "Attribution: https://blogs.msdn.microsoft.com/andreasderuiter/2015/02/09/using-roc-plots-and-the-auc-measure-in-azure-ml/"
   ]
  }
 ],
 "metadata": {
  "kernelspec": {
   "display_name": "Python 3",
   "language": "python",
   "name": "python3"
  },
  "language_info": {
   "codemirror_mode": {
    "name": "ipython",
    "version": 3
   },
   "file_extension": ".py",
   "mimetype": "text/x-python",
   "name": "python",
   "nbconvert_exporter": "python",
   "pygments_lexer": "ipython3",
   "version": "3.6.1"
  }
 },
 "nbformat": 4,
 "nbformat_minor": 2
}
