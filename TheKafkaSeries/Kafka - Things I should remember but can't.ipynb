{
 "cells": [
  {
   "cell_type": "markdown",
   "metadata": {},
   "source": [
    "### Command-line\n",
    "\n",
    "#### Consumer groups\n",
    "\n",
    "```bash\n",
    "$ kafka-consumer-groups --describe --group mygroup --zookeeper localhost:2181\n",
    "\n",
    "$ kafka-consumer-groups --list --bootstrap-server localhost:9092\n",
    "Note: This will only show information about consumers that use the Java consumer API (non-ZooKeeper-based consumers).\n",
    "...\n",
    "\n",
    "$ kafka-consumer-groups --list --zookeeper localhost:2181\n",
    "Note: This will only show information about consumers that use ZooKeeper (not those using the Java consumer API).\n",
    "...\n",
    "```\n",
    "\n",
    "#### Topics\n",
    "\n",
    "```bash\n",
    "$ kafka-topics --zookeeper localhost:2181 --list\n",
    "$ kafka-topics --describe --zookeeper localhost:2181 --topic my-topic\n",
    "```\n",
    "\n",
    "#### Consumer\n",
    "\n",
    "```bash\n",
    "$ kafka-console-consumer --bootstrap-server localhost:9092 --from-beginning --topic my-topic\n",
    "$ kafka-console-consumer --bootstrap-server localhost:9092 --from-beginning --consumer-property group.id=newgroup --topic my-topic\n",
    "```\n",
    "\n",
    "#### Producer\n",
    "\n",
    "```bash\n",
    "$ kafka-console-producer --broker-list localhost:9092 --topic my-topic\n",
    "```\n",
    "\n",
    "#### Offsets\n",
    "```bash\n",
    "$ kafka-run-class kafka.tools.GetOffsetShell --broker-list localhost:9092 --topic my-topic\n",
    "$ kafka-consumer-groups --describe --group mygroup --zookeeper localhost:2181\n",
    "$ kafka-consumer-groups --bootstrap-server localhost:9092 --group my-group --reset-offsets --to-offset earliest --topic my-topic --execute\n",
    "```"
   ]
  },
  {
   "cell_type": "markdown",
   "metadata": {},
   "source": [
    "### Deleting topics from Kafka\n",
    "[https://github.com/darrenfu/bigdata/issues/6]\n",
    "\n",
    "For each node:\n",
    "1. Stop the brokers (Note: seems like you needn't bring down Zookeeper for this)  \n",
    "```$ docker-compose down```\n",
    "\n",
    "2. Remove the directories on disk   \n",
    "```$ sudo rm -rf <kafka_data_dir>/<topic_name>*```\n",
    "\n",
    "3. If you brought zookeeper down, now bring it up:  \n",
    "```bash\n",
    "$ vim docker-compose.yml\n",
    "# comment the file so that only zookeeper comes up and not kafka\n",
    "$ docker-compose up -d\n",
    "```\n",
    "\n",
    "4. Drop into your zookeeper docker bash  \n",
    "```$ docker exec -it 94af0bcdc56f bash```\n",
    "\n",
    "5. Delete the topic from zookeeper  \n",
    "```bash\n",
    "# zookeeper-shell localhost:2181 rmr /brokers/topics/<topic_name>\n",
    "# zookeeper-shell localhost:2181 rmr /config/topics/<topic_name>\n",
    "# zookeeper-shell localhost:2181 rmr /admin/delete_topics/<topic_name>\n",
    "```"
   ]
  },
  {
   "cell_type": "markdown",
   "metadata": {},
   "source": [
    "<img src='./Kafka_1.jpg' width=\"49%\" style=\"float:left\">\n",
    "<img src='./Kafka_2.jpg' width=\"49%\" style=\"float:left\">\n",
    "\n",
    "(Text src: https://kafka.apache.org/intro)"
   ]
  },
  {
   "cell_type": "markdown",
   "metadata": {},
   "source": [
    "#### Consumer offsets\n",
    "- Consumers stores offsets at which a **consumer group** has been reading\n",
    "- The offset commits live in a topic named \\_\\_consumer_offsets\n",
    "- When a consumer has processed data received from Kafka, it should be committing the offsets\n",
    "- If a consumer process dies, it will be able to read back from where it left off based on the offsets"
   ]
  },
  {
   "cell_type": "markdown",
   "metadata": {},
   "source": [
    "#### Use cases\n",
    "\n",
    "<img src='./kafka-usecase-1.png'>\n",
    "\n",
    "(img src: https://blog.cloudera.com/blog/2014/09/apache-kafka-for-beginners/)"
   ]
  },
  {
   "cell_type": "code",
   "execution_count": null,
   "metadata": {
    "collapsed": true
   },
   "outputs": [],
   "source": []
  }
 ],
 "metadata": {
  "kernelspec": {
   "display_name": "Python 3",
   "language": "python",
   "name": "python3"
  },
  "language_info": {
   "codemirror_mode": {
    "name": "ipython",
    "version": 3
   },
   "file_extension": ".py",
   "mimetype": "text/x-python",
   "name": "python",
   "nbconvert_exporter": "python",
   "pygments_lexer": "ipython3",
   "version": "3.6.1"
  }
 },
 "nbformat": 4,
 "nbformat_minor": 2
}
